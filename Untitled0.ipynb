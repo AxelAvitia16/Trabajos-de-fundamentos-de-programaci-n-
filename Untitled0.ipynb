{
  "nbformat": 4,
  "nbformat_minor": 0,
  "metadata": {
    "colab": {
      "provenance": [],
      "authorship_tag": "ABX9TyMmp9hdB69Ul0hQmsgJBife",
      "include_colab_link": true
    },
    "kernelspec": {
      "name": "python3",
      "display_name": "Python 3"
    },
    "language_info": {
      "name": "python"
    }
  },
  "cells": [
    {
      "cell_type": "markdown",
      "metadata": {
        "id": "view-in-github",
        "colab_type": "text"
      },
      "source": [
        "<a href=\"https://colab.research.google.com/github/AxelAvitia16/Trabajos-de-fundamentos-de-programaci-n-/blob/main/Untitled0.ipynb\" target=\"_parent\"><img src=\"https://colab.research.google.com/assets/colab-badge.svg\" alt=\"Open In Colab\"/></a>"
      ]
    },
    {
      "cell_type": "code",
      "execution_count": 50,
      "metadata": {
        "id": "qOqXpY86qQo6"
      },
      "outputs": [],
      "source": [
        "import pandas as pd\n",
        "import matplotlib as plt\n",
        "import seaborn as sns\n",
        "from matplotlib import pyplot"
      ]
    },
    {
      "cell_type": "code",
      "source": [
        "#cargar el archivo CSV en una variable llamada covid\n",
        "file_path = \"/content/autos2 (1).csv\"\n",
        "autos2 = pd.read_csv(file_path, encoding=\"ISO-8859-1\")"
      ],
      "metadata": {
        "id": "y_kk7VYmq6ck"
      },
      "execution_count": 49,
      "outputs": []
    },
    {
      "cell_type": "code",
      "source": [
        "#mostrar la edad maxima de la base de datosde la columna edad\n",
        "autos2.price.max()"
      ],
      "metadata": {
        "colab": {
          "base_uri": "https://localhost:8080/"
        },
        "id": "EH-gP_PCrP7Z",
        "outputId": "e5727b25-3c8e-4a4e-b53d-27c98a4fbf30"
      },
      "execution_count": 48,
      "outputs": [
        {
          "output_type": "execute_result",
          "data": {
            "text/plain": [
              "45400.0"
            ]
          },
          "metadata": {},
          "execution_count": 48
        }
      ]
    },
    {
      "cell_type": "code",
      "source": [
        "#mostrar la edad minima de la base de datosde la columna edad\n",
        "autos2.price.min()"
      ],
      "metadata": {
        "colab": {
          "base_uri": "https://localhost:8080/"
        },
        "id": "YQhxsULqsM4S",
        "outputId": "c2958920-cb3d-41b0-e7c5-d087b749b99b"
      },
      "execution_count": 47,
      "outputs": [
        {
          "output_type": "execute_result",
          "data": {
            "text/plain": [
              "5118.0"
            ]
          },
          "metadata": {},
          "execution_count": 47
        }
      ]
    },
    {
      "cell_type": "markdown",
      "source": [],
      "metadata": {
        "id": "ghQQmUjFrYGH"
      }
    },
    {
      "cell_type": "code",
      "source": [
        "import statistics # Import the statistics module\n",
        "# If you are working with NumPy arrays, use this import instead:\n",
        "# import numpy as np\n",
        "\n",
        "# Assuming 'price' column from the 'autos2' DataFrame\n",
        "price = autos2['price']  # Or any other relevant data you want to analyze\n",
        "\n",
        "#determina el valor de la mediana con la funcion median\n",
        "mediana = statistics.median(price) # Use statistics.median() for calculation\n",
        "print(mediana)\n",
        "# If you are using NumPy, replace the above line with:\n",
        "# mediana = np.median(price)\n"
      ],
      "metadata": {
        "colab": {
          "base_uri": "https://localhost:8080/"
        },
        "id": "K7ol1KY61SZ2",
        "outputId": "5a923c66-f748-4fcd-c1dc-ba542f5ae0e2"
      },
      "execution_count": 55,
      "outputs": [
        {
          "output_type": "stream",
          "name": "stdout",
          "text": [
            "18150.0\n"
          ]
        }
      ]
    },
    {
      "cell_type": "code",
      "source": [
        "#Determina el valor de la moda con la fucion mode\n",
        "import statistics # Import the statistics module\n",
        "\n",
        "moda = statistics.mode(price) # Use statistics.mode to calculate the mode\n",
        "print(moda)"
      ],
      "metadata": {
        "colab": {
          "base_uri": "https://localhost:8080/"
        },
        "id": "1qP_cGESy-uV",
        "outputId": "ea2678d9-a7df-492b-df69-e7f9ffc8aa60"
      },
      "execution_count": 56,
      "outputs": [
        {
          "output_type": "stream",
          "name": "stdout",
          "text": [
            "16500.0\n"
          ]
        }
      ]
    },
    {
      "cell_type": "code",
      "source": [
        "import statistics # Import the statistics module\n",
        "\n",
        "# Assuming 'autos2' DataFrame and 'price' column\n",
        "price = autos2['price']\n",
        "\n",
        "# If 'grupoa' is meant to be the 'price' data:\n",
        "grupoa = price\n",
        "\n",
        "# Calculate and print the average price using statistics.mean()\n",
        "promedio2 = statistics.mean(grupoa)\n",
        "print(promedio2)\n"
      ],
      "metadata": {
        "colab": {
          "base_uri": "https://localhost:8080/"
        },
        "id": "pVsWG2X_0f8X",
        "outputId": "acb40412-f3a9-481e-962e-fa66f8d09874"
      },
      "execution_count": 62,
      "outputs": [
        {
          "output_type": "stream",
          "name": "stdout",
          "text": [
            "nan\n"
          ]
        }
      ]
    },
    {
      "cell_type": "code",
      "source": [
        "#mostrar la informacion del archivo\n",
        "#muestra el numero de registros, tipos de datos de la columna,valores nulos,memoria utilizada\n",
        "autos2.info()\n"
      ],
      "metadata": {
        "colab": {
          "base_uri": "https://localhost:8080/"
        },
        "id": "8_NT-Fox2E7V",
        "outputId": "9c59fc97-6949-4932-b2ee-16ebc3210621"
      },
      "execution_count": 64,
      "outputs": [
        {
          "output_type": "stream",
          "name": "stdout",
          "text": [
            "<class 'pandas.core.frame.DataFrame'>\n",
            "RangeIndex: 205 entries, 0 to 204\n",
            "Data columns (total 26 columns):\n",
            " #   Column             Non-Null Count  Dtype  \n",
            "---  ------             --------------  -----  \n",
            " 0   symboling          205 non-null    int64  \n",
            " 1   normalized-losses  205 non-null    float64\n",
            " 2   make               205 non-null    object \n",
            " 3   fuel-type          205 non-null    object \n",
            " 4   aspiration         205 non-null    object \n",
            " 5   num-of-doors       203 non-null    object \n",
            " 6   body-style         205 non-null    object \n",
            " 7   drive-wheels       205 non-null    object \n",
            " 8   engine-location    205 non-null    object \n",
            " 9   wheel-base         205 non-null    float64\n",
            " 10  length             205 non-null    float64\n",
            " 11  width              205 non-null    float64\n",
            " 12  height             205 non-null    float64\n",
            " 13  curb-weight        205 non-null    int64  \n",
            " 14  engine-type        205 non-null    object \n",
            " 15  num-of-cylinders   205 non-null    object \n",
            " 16  engine-size        205 non-null    int64  \n",
            " 17  fuel-system        205 non-null    object \n",
            " 18  bore               201 non-null    float64\n",
            " 19  stroke             201 non-null    float64\n",
            " 20  compression-ratio  205 non-null    float64\n",
            " 21  horsepower         203 non-null    float64\n",
            " 22  peak-rpm           203 non-null    float64\n",
            " 23  city-mpg           205 non-null    int64  \n",
            " 24  highway-mpg        205 non-null    int64  \n",
            " 25  price              201 non-null    float64\n",
            "dtypes: float64(11), int64(5), object(10)\n",
            "memory usage: 41.8+ KB\n"
          ]
        }
      ]
    },
    {
      "cell_type": "code",
      "source": [
        "#mostrar los estadisticos descriptivos de la columna precios\n",
        "autos2.price.describe()"
      ],
      "metadata": {
        "colab": {
          "base_uri": "https://localhost:8080/",
          "height": 335
        },
        "id": "luGAI0_j2U2w",
        "outputId": "dda36c49-84d5-41ca-a0f5-5f31e59296a7"
      },
      "execution_count": 66,
      "outputs": [
        {
          "output_type": "execute_result",
          "data": {
            "text/plain": [
              "count      201.000000\n",
              "mean     13207.129353\n",
              "std       7947.066342\n",
              "min       5118.000000\n",
              "25%       7775.000000\n",
              "50%      10295.000000\n",
              "75%      16500.000000\n",
              "max      45400.000000\n",
              "Name: price, dtype: float64"
            ],
            "text/html": [
              "<div>\n",
              "<style scoped>\n",
              "    .dataframe tbody tr th:only-of-type {\n",
              "        vertical-align: middle;\n",
              "    }\n",
              "\n",
              "    .dataframe tbody tr th {\n",
              "        vertical-align: top;\n",
              "    }\n",
              "\n",
              "    .dataframe thead th {\n",
              "        text-align: right;\n",
              "    }\n",
              "</style>\n",
              "<table border=\"1\" class=\"dataframe\">\n",
              "  <thead>\n",
              "    <tr style=\"text-align: right;\">\n",
              "      <th></th>\n",
              "      <th>price</th>\n",
              "    </tr>\n",
              "  </thead>\n",
              "  <tbody>\n",
              "    <tr>\n",
              "      <th>count</th>\n",
              "      <td>201.000000</td>\n",
              "    </tr>\n",
              "    <tr>\n",
              "      <th>mean</th>\n",
              "      <td>13207.129353</td>\n",
              "    </tr>\n",
              "    <tr>\n",
              "      <th>std</th>\n",
              "      <td>7947.066342</td>\n",
              "    </tr>\n",
              "    <tr>\n",
              "      <th>min</th>\n",
              "      <td>5118.000000</td>\n",
              "    </tr>\n",
              "    <tr>\n",
              "      <th>25%</th>\n",
              "      <td>7775.000000</td>\n",
              "    </tr>\n",
              "    <tr>\n",
              "      <th>50%</th>\n",
              "      <td>10295.000000</td>\n",
              "    </tr>\n",
              "    <tr>\n",
              "      <th>75%</th>\n",
              "      <td>16500.000000</td>\n",
              "    </tr>\n",
              "    <tr>\n",
              "      <th>max</th>\n",
              "      <td>45400.000000</td>\n",
              "    </tr>\n",
              "  </tbody>\n",
              "</table>\n",
              "</div><br><label><b>dtype:</b> float64</label>"
            ]
          },
          "metadata": {},
          "execution_count": 66
        }
      ]
    },
    {
      "cell_type": "code",
      "source": [
        "#dibuja el histograma del atributo \"price\" con bins = 3\n",
        "#calcula la media y guardala en una variable para mostrar el histograma\n",
        "#dibuja el histograma del atributo \"price\" con bins = 3\n",
        "#calcula la media y guardala en una variable para mostrar el histograma\n",
        "\n",
        "# Calculate the mean of the 'price' column and assign it to 'media'\n",
        "media = autos2['price'].mean()\n",
        "\n",
        "# Use 'autos2' and 'price' instead of 'covid' and 'EDAD'\n",
        "plt.pyplot.hist(autos2['price'], bins=11)\n",
        "\n",
        "plt.pyplot.title(\"Histograma price autos2\")\n",
        "plt.pyplot.axvline(media, color='y', linestyle='dashed', linewidth=2, label=f'Media=(media:.2f)')\n",
        "\n",
        "# Change x-axis label to \"Price\"\n",
        "plt.pyplot.xlabel(\"Price\")\n",
        "plt.pyplot.ylabel(\"Frecuencia\")"
      ],
      "metadata": {
        "colab": {
          "base_uri": "https://localhost:8080/",
          "height": 490
        },
        "id": "JU9SWjGz3WIV",
        "outputId": "790ceb3b-c8bd-4c5c-a8f5-8076e6550029"
      },
      "execution_count": 70,
      "outputs": [
        {
          "output_type": "execute_result",
          "data": {
            "text/plain": [
              "Text(0, 0.5, 'Frecuencia')"
            ]
          },
          "metadata": {},
          "execution_count": 70
        },
        {
          "output_type": "display_data",
          "data": {
            "text/plain": [
              "<Figure size 640x480 with 1 Axes>"
            ],
            "image/png": "[encoded data removed]"
          },
          "metadata": {}
        }
      ]
    },
    {
      "cell_type": "code",
      "source": [
        "#Dibuja el histograma de la columna sexo,esto permite comparar cuantos hay de cada grupo\n",
        "import matplotlib.pyplot as plt\n",
        "\n",
        "# Access the 'body-style' column directly from the 'autos2' DataFrame\n",
        "# The column name in the CSV might be 'body-style' instead of 'body style'\n",
        "plt.hist(autos2['body-style'], bins=3)\n",
        "plt.xlabel(\"Body Style\")\n",
        "plt.ylabel(\"Frequency\")\n",
        "plt.title(\"Histogram of Body Style\")\n",
        "plt.show()"
      ],
      "metadata": {
        "colab": {
          "base_uri": "https://localhost:8080/",
          "height": 472
        },
        "id": "ojhHWpIm44ha",
        "outputId": "34b53d95-e8bb-4f8a-f91e-cbd5898f2c3f"
      },
      "execution_count": 74,
      "outputs": [
        {
          "output_type": "display_data",
          "data": {
            "text/plain": [
              "<Figure size 640x480 with 1 Axes>"
            ],
            "image/png": "[encoded data removed]"
          },
          "metadata": {}
        }
      ]
    },
    {
      "cell_type": "code",
      "source": [
        "# Crear un diagrama de cajas para visualizar la distribucion de\n",
        "# los rangos de price por tipo de drive wheels\n",
        "# Replace \"drive wheels\" with the correct column name from your DataFrame\n",
        "sns.boxplot(x=\"price\", y=\"drive-wheels\", data=autos2)"
      ],
      "metadata": {
        "colab": {
          "base_uri": "https://localhost:8080/",
          "height": 467
        },
        "id": "pkGC69xF5r5R",
        "outputId": "81a622da-447c-480d-ca70-a289eed7e6ad"
      },
      "execution_count": 77,
      "outputs": [
        {
          "output_type": "execute_result",
          "data": {
            "text/plain": [
              "<Axes: xlabel='price', ylabel='drive-wheels'>"
            ]
          },
          "metadata": {},
          "execution_count": 77
        },
        {
          "output_type": "display_data",
          "data": {
            "text/plain": [
              "<Figure size 640x480 with 1 Axes>"
            ],
            "image/png": "[encoded data removed]"
          },
          "metadata": {}
        }
      ]
    },
    {
      "cell_type": "code",
      "source": [
        "# Crear un diagrama de cajas para visualizar la distribucion de\n",
        "# los rangos de price por tipo de drive wheels\n",
        "# Replace \"drive wheels\" with the correct column name from your DataFrame\n",
        "sns.boxplot(x=\"price\", y=\"engine-location\", data=autos2)"
      ],
      "metadata": {
        "colab": {
          "base_uri": "https://localhost:8080/",
          "height": 467
        },
        "id": "Bf8E8Q5u6x9i",
        "outputId": "1c29a072-eb68-497c-adb1-67bef8c738fd"
      },
      "execution_count": 78,
      "outputs": [
        {
          "output_type": "execute_result",
          "data": {
            "text/plain": [
              "<Axes: xlabel='price', ylabel='engine-location'>"
            ]
          },
          "metadata": {},
          "execution_count": 78
        },
        {
          "output_type": "display_data",
          "data": {
            "text/plain": [
              "<Figure size 640x480 with 1 Axes>"
            ],
            "image/png": "[encoded data removed]"
          },
          "metadata": {}
        }
      ]
    }
  ]
}